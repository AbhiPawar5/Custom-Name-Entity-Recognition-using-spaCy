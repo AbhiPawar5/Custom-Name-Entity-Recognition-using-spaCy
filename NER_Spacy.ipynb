{
  "nbformat": 4,
  "nbformat_minor": 0,
  "metadata": {
    "colab": {
      "name": "NER Spacy.ipynb",
      "provenance": [],
      "collapsed_sections": []
    },
    "kernelspec": {
      "name": "python3",
      "display_name": "Python 3"
    }
  },
  "cells": [
    {
      "cell_type": "markdown",
      "metadata": {
        "id": "vyuWg9Cuc8m6"
      },
      "source": [
        "# Custom Name Entity Recognition with Spacy model\r\n",
        "References : https://www.machinelearningplus.com/nlp/training-custom-ner-model-in-spacy/"
      ]
    },
    {
      "cell_type": "code",
      "metadata": {
        "colab": {
          "base_uri": "https://localhost:8080/"
        },
        "id": "FDg81_ZlUfly",
        "outputId": "466f79f8-49c9-4dfe-fbb4-f6c5113a8417"
      },
      "source": [
        "import spacy\r\n",
        "nlp=spacy.load('en_core_web_sm')\r\n",
        "\r\n",
        "nlp.pipe_names"
      ],
      "execution_count": 1,
      "outputs": [
        {
          "output_type": "execute_result",
          "data": {
            "text/plain": [
              "['tagger', 'parser', 'ner']"
            ]
          },
          "metadata": {
            "tags": []
          },
          "execution_count": 1
        }
      ]
    },
    {
      "cell_type": "code",
      "metadata": {
        "colab": {
          "base_uri": "https://localhost:8080/"
        },
        "id": "V3Weh6e1UjYS",
        "outputId": "1c1b4f44-12df-405a-8d45-d5cb953f9016"
      },
      "source": [
        "article_text=\"\"\"India that previously comprised only a handful of players in the e-commerce space, is now home to many biggies and giants battling out with each other to reach the top. This is thanks to the overwhelming internet and smartphone penetration coupled with the ever-increasing digital adoption across the country. These new-age innovations not only gave emerging startups a unique platform to deliver seamless shopping experiences but also provided brick and mortar stores with a level-playing field to begin their online journeys without leaving their offline legacies.\r\n",
        "In the wake of so many players coming together on one platform, the Indian e-commerce market is envisioned to reach USD 84 billion in 2021 from USD 24 billion in 2017. Further, with the rate at which internet penetration is increasing, we can expect more and more international retailers coming to India in addition to a large pool of new startups. This, in turn, will provide a major Philip to the organized retail market and boost its share from 12% in 2017 to 22-25% by 2021. \r\n",
        "Here’s a view to the e-commerce giants that are dominating India’s online shopping space:\r\n",
        "Amazon – One of the uncontested global leaders, Amazon started its journey as a simple online bookstore that gradually expanded its reach to provide a large suite of diversified products including media, furniture, food, and electronics, among others. And now with the launch of Amazon Prime and Amazon Music Limited, it has taken customer experience to a godly level, which will remain undefeatable for a very long time. \r\n",
        "Flipkart – Founded in 2007, Flipkart is recognized as the national leader in the Indian e-commerce market. Just like Amazon, it started operating by selling books and then entered other categories such as electronics, fashion, and lifestyle, mobile phones, etc. And now that it has been acquired by Walmart, one of the largest leading platforms of e-commerce in the US, it has also raised its bar of customer offerings in all aspects and giving huge competition to Amazon. \r\n",
        "Snapdeal – Started as a daily deals platform in 2010, Snapdeal became a full-fledged online marketplace in 2011 comprising more than 3 lac sellers across India. The platform offers over 30 million products across 800+ diverse categories from over 125,000 regional, national, and international brands and retailers. The Indian e-commerce firm follows a robust strategy to stay at the forefront of innovation and deliver seamless customer offerings to its wide customer base. It has shown great potential for recovery in recent years despite losing Freecharge and Unicommerce. \r\n",
        "ShopClues – Another renowned name in the Indian e-commerce industry, ShopClues was founded in July 2011. It’s a Gurugram based company having a current valuation of INR 1.1 billion and is backed by prominent names including Nexus Venture Partners, Tiger Global, and Helion Ventures as its major investors. Presently, the platform comprises more than 5 lac sellers selling products in nine different categories such as computers, cameras, mobiles, etc. \r\n",
        "Paytm Mall – To compete with the existing e-commerce giants, Paytm, an online payment system has also launched its online marketplace – Paytm Mall, which offers a wide array of products ranging from men and women fashion to groceries and cosmetics, electronics and home products, and many more. The unique thing about this platform is that it serves as a medium for third parties to sell their products directly through the widely-known app – Paytm. \r\n",
        "Reliance Retail – Given Reliance Jio’s disruptive venture in the Indian telecom space along with a solid market presence of Reliance, it is no wonder that Reliance will soon be foraying into retail space. As of now, it has plans to build an e-commerce space that will be established on online-to-offline market program and aim to bring local merchants on board to help them boost their sales and compete with the existing industry leaders. \r\n",
        "Big Basket – India’s biggest online supermarket, Big Basket provides a wide variety of imported and gourmet products through two types of delivery services – express delivery and slotted delivery. It also offers pre-cut fruits along with a long list of beverages including fresh juices, cold drinks, hot teas, etc. Moreover, it not only provides farm-fresh products but also ensures that the farmer gets better prices. \r\n",
        "Grofers – One of the leading e-commerce players in the grocery segment, Grofers started its operations in 2013 and has reached overwhelming heights in the last 5 years. Its wide range of products includes atta, milk, oil, daily need products, vegetables, dairy products, juices, beverages, among others. With its growing reach across India, it has become one of the favorite supermarkets for Indian consumers who want to shop grocery items from the comforts of their homes. \r\n",
        "Digital Mall of Asia – Going live in 2020, Digital Mall of Asia is a very unique concept coined by the founders of Yokeasia Malls. It is designed to provide an immersive digital space equipped with multiple visual and sensory elements to sellers and shoppers. It will also give retailers exclusive rights to sell a particular product category or brand in their respective cities. What makes it unique is its zero-commission model enabling retailers to pay only a fixed amount of monthly rental instead of paying commissions. With its one-of-a-kind features, DMA is expected to bring\r\n",
        "never-seen transformation to the current e-commerce ecosystem while addressing all the existing e-commerce worries such as counterfeiting. \"\"\"\r\n",
        "\r\n",
        "doc=nlp(article_text)\r\n",
        "for ent in doc.ents:\r\n",
        "  print(ent.text,\" - \",ent.label_)"
      ],
      "execution_count": 2,
      "outputs": [
        {
          "output_type": "stream",
          "text": [
            "India  -  GPE\n",
            "one  -  CARDINAL\n",
            "Indian  -  NORP\n",
            "USD 84 billion  -  MONEY\n",
            "2021  -  DATE\n",
            "USD 24 billion  -  MONEY\n",
            "2017  -  DATE\n",
            "India  -  GPE\n",
            "Philip  -  PERSON\n",
            "12%  -  PERCENT\n",
            "2017  -  DATE\n",
            "22-25%  -  PERCENT\n",
            "2021  -  DATE\n",
            "India  -  GPE\n",
            "Amazon  -  ORG\n",
            "One  -  CARDINAL\n",
            "Amazon  -  ORG\n",
            "Amazon  -  ORG\n",
            "Amazon Music Limited  -  ORG\n",
            "Flipkart  -  PERSON\n",
            "2007  -  DATE\n",
            "Flipkart  -  PERSON\n",
            "Indian  -  NORP\n",
            "Amazon  -  ORG\n",
            "Walmart  -  LOC\n",
            "one  -  CARDINAL\n",
            "US  -  GPE\n",
            "Amazon  -  ORG\n",
            "daily  -  DATE\n",
            "2010  -  DATE\n",
            "2011  -  DATE\n",
            "more than 3  -  CARDINAL\n",
            "India  -  GPE\n",
            "over 30 million  -  CARDINAL\n",
            "over 125,000  -  CARDINAL\n",
            "Indian  -  NORP\n",
            "recent years  -  DATE\n",
            "Freecharge  -  PERSON\n",
            "Unicommerce  -  GPE\n",
            "ShopClues  -  PERSON\n",
            "Indian  -  NORP\n",
            "ShopClues  -  ORG\n",
            "July 2011  -  DATE\n",
            "Gurugram  -  ORG\n",
            "INR  -  ORG\n",
            "1.1 billion  -  CARDINAL\n",
            "Nexus Venture Partners  -  ORG\n",
            "Helion Ventures  -  ORG\n",
            "more than 5  -  CARDINAL\n",
            "nine  -  CARDINAL\n",
            "Paytm Mall  -  PERSON\n",
            "Paytm  -  ORG\n",
            "Paytm Mall  -  FAC\n",
            "third  -  ORDINAL\n",
            "Paytm  -  GPE\n",
            "Indian  -  NORP\n",
            "Reliance  -  ORG\n",
            "Reliance  -  ORG\n",
            "India  -  GPE\n",
            "Big Basket  -  ORG\n",
            "two  -  CARDINAL\n",
            "One  -  CARDINAL\n",
            "2013  -  DATE\n",
            "the last 5 years  -  DATE\n",
            "daily  -  DATE\n",
            "India  -  GPE\n",
            "Indian  -  NORP\n",
            "Digital Mall  -  FAC\n",
            "Asia  -  LOC\n",
            "2020  -  DATE\n",
            "Digital Mall  -  ORG\n",
            "Asia  -  LOC\n",
            "Yokeasia Malls  -  GPE\n",
            "zero  -  CARDINAL\n",
            "monthly  -  DATE\n",
            "one  -  CARDINAL\n"
          ],
          "name": "stdout"
        }
      ]
    },
    {
      "cell_type": "markdown",
      "metadata": {
        "id": "5vjsYkMAdYIF"
      },
      "source": [
        "We can observe that few entities are mislabled. For ex, Flipkart is labelled as Person(PER) and Walmart is labelled as a location(LOC).\r\n",
        "\r\n",
        "In order to avoid such scenarios and embedd our words into the model, we need to train to NER model available in Spacy."
      ]
    },
    {
      "cell_type": "markdown",
      "metadata": {
        "id": "s8ZzRpe9WN2R"
      },
      "source": [
        "### Custom Training"
      ]
    },
    {
      "cell_type": "code",
      "metadata": {
        "id": "Z3AlHie6UvLw"
      },
      "source": [
        "#Using a base model for training\r\n",
        "nlp = spacy.load('en_core_web_sm')\r\n",
        "\r\n",
        "# Getting the pipeline component\r\n",
        "ner = nlp.get_pipe(\"ner\")"
      ],
      "execution_count": 3,
      "outputs": []
    },
    {
      "cell_type": "markdown",
      "metadata": {
        "id": "Sy8sJnapWgjx"
      },
      "source": [
        "spaCy accepts training data as list of tuples.\r\n",
        "\r\n",
        "Each tuple should contain the text and a dictionary. The dictionary should hold the start and end indices of the named enity in the text, and the category or label of the named entity."
      ]
    },
    {
      "cell_type": "code",
      "metadata": {
        "id": "cgai_lP2WXUD"
      },
      "source": [
        "TRAIN_DATA = [\r\n",
        "              (\"Walmart is a leading e-commerce company\", {\"entities\": [(0, 7, \"ORG\")]}),\r\n",
        "              (\"I reached Chennai yesterday.\", {\"entities\": [(10, 17, \"GPE\")]}),\r\n",
        "              (\"I reached Sangli yesterday.\", {\"entities\": [(10, 16, \"GPE\")]}),\r\n",
        "              (\"I recently ordered a book from Amazon\", {\"entities\": [(24,32, \"ORG\")]}),\r\n",
        "              (\"I was driving a BMW\", {\"entities\": [(16,19, \"PRODUCT\")]}),\r\n",
        "              (\"I ordered this from ShopClues\", {\"entities\": [(20,29, \"ORG\")]}),\r\n",
        "              (\"Fridge can be ordered in Amazon \", {\"entities\": [(0,6, \"PRODUCT\")]}),\r\n",
        "              (\"I bought a new Washer\", {\"entities\": [(16,22, \"PRODUCT\")]}),\r\n",
        "              (\"I bought a old table\", {\"entities\": [(16,21, \"PRODUCT\")]}),\r\n",
        "              (\"I bought a fancy dress\", {\"entities\": [(18,23, \"PRODUCT\")]}),\r\n",
        "              (\"I graduated from Walchand College,Maharashtra\", {\"entities\": [(34, 45, \"GPE\")]}),\r\n",
        "              (\"I rented a camera\", {\"entities\": [(12,18, \"PRODUCT\")]}),\r\n",
        "              (\"I rented a tent for our trip\", {\"entities\": [(12,16, \"PRODUCT\")]}),\r\n",
        "              (\"I rented a screwdriver from our neighbour\", {\"entities\": [(12,22, \"PRODUCT\")]}),\r\n",
        "              (\"I repaired my computer\", {\"entities\": [(15,23, \"PRODUCT\")]}),\r\n",
        "              (\"I got my clock fixed\", {\"entities\": [(16,21, \"PRODUCT\")]}),\r\n",
        "              (\"I got my truck fixed\", {\"entities\": [(16,21, \"PRODUCT\")]}),\r\n",
        "              (\"Flipkart started it's journey from zero\", {\"entities\": [(0,8, \"ORG\")]}),\r\n",
        "              (\"I recently ordered from Max\", {\"entities\": [(24,27, \"ORG\")]}),\r\n",
        "              (\"Flipkart is recognized as leader in market\",{\"entities\": [(0,8, \"ORG\")]}),\r\n",
        "              (\"I recently ordered from Swiggy\", {\"entities\": [(24,29, \"ORG\")]})\r\n",
        "              ]"
      ],
      "execution_count": 4,
      "outputs": []
    },
    {
      "cell_type": "code",
      "metadata": {
        "id": "2aN7Jau3XeEl"
      },
      "source": [
        "for _, annotations in TRAIN_DATA:\r\n",
        "  for ent in annotations.get(\"entities\"):\r\n",
        "    ner.add_label(ent[2])"
      ],
      "execution_count": 5,
      "outputs": []
    },
    {
      "cell_type": "code",
      "metadata": {
        "id": "sGTwLkVQXpzs"
      },
      "source": [
        "# Disable pipeline components you dont need to change\r\n",
        "pipe_exceptions = [\"ner\", \"trf_wordpiecer\", \"trf_tok2vec\"]\r\n",
        "unaffected_pipes = [pipe for pipe in nlp.pipe_names if pipe not in pipe_exceptions]"
      ],
      "execution_count": 6,
      "outputs": []
    },
    {
      "cell_type": "code",
      "metadata": {
        "colab": {
          "base_uri": "https://localhost:8080/"
        },
        "id": "XPI-1Q2jXxQb",
        "outputId": "5843f929-abfa-4bca-ded4-41f4556f9585"
      },
      "source": [
        "import random\r\n",
        "from spacy.util import minibatch, compounding\r\n",
        "from pathlib import Path\r\n",
        "\r\n",
        "# TRAINING THE MODEL\r\n",
        "with nlp.disable_pipes(*unaffected_pipes):\r\n",
        "\r\n",
        "  # Training for 30 iterations\r\n",
        "  for iteration in range(30):\r\n",
        "\r\n",
        "    # shuufling examples  before every iteration\r\n",
        "    random.shuffle(TRAIN_DATA)\r\n",
        "    losses = {}\r\n",
        "    # batch up the examples using spaCy's minibatch\r\n",
        "    batches = minibatch(TRAIN_DATA, size=compounding(4.0, 32.0, 1.001))\r\n",
        "    for batch in batches:\r\n",
        "        texts, annotations = zip(*batch)\r\n",
        "        nlp.update(\r\n",
        "                    texts,  # batch of texts\r\n",
        "                    annotations,  # batch of annotations\r\n",
        "                    drop=0.5,  # dropout - make it harder to memorise data\r\n",
        "                    losses=losses,\r\n",
        "                )\r\n",
        "        print(\"Losses\", losses.get('ner'), \" - Iteration \",iteration)"
      ],
      "execution_count": 7,
      "outputs": [
        {
          "output_type": "stream",
          "text": [
            "Losses 2.372481779078953  - Iteration  0\n",
            "Losses 7.25562999479007  - Iteration  0\n",
            "Losses 13.69271390978247  - Iteration  0\n",
            "Losses 18.2401060013799  - Iteration  0\n",
            "Losses 21.001765654655173  - Iteration  0\n",
            "Losses 21.32821344319717  - Iteration  0\n",
            "Losses 6.111340746516362  - Iteration  1\n",
            "Losses 7.7060675717075355  - Iteration  1\n",
            "Losses 15.791807027242612  - Iteration  1\n",
            "Losses 18.11396455936483  - Iteration  1\n",
            "Losses 21.915832953499375  - Iteration  1\n",
            "Losses 23.17559512150996  - Iteration  1\n",
            "Losses 3.5509007430614474  - Iteration  2\n",
            "Losses 10.034059164894188  - Iteration  2\n",
            "Losses 13.098993430737664  - Iteration  2\n",
            "Losses 15.912069600826271  - Iteration  2\n",
            "Losses 16.24583956435663  - Iteration  2\n",
            "Losses 16.245840418848736  - Iteration  2\n",
            "Losses 0.3695227945645456  - Iteration  3\n",
            "Losses 5.70050884848024  - Iteration  3\n",
            "Losses 8.315312896571413  - Iteration  3\n",
            "Losses 10.630058528934569  - Iteration  3\n",
            "Losses 13.331019189691688  - Iteration  3\n",
            "Losses 13.410208351573772  - Iteration  3\n",
            "Losses 4.684881743043661  - Iteration  4\n",
            "Losses 5.8823831863410305  - Iteration  4\n",
            "Losses 8.191420274524717  - Iteration  4\n",
            "Losses 9.217142751178471  - Iteration  4\n",
            "Losses 16.016794764884253  - Iteration  4\n",
            "Losses 16.03199832576827  - Iteration  4\n",
            "Losses 3.2190434182286936  - Iteration  5\n",
            "Losses 5.890404636248785  - Iteration  5\n",
            "Losses 8.212676326952714  - Iteration  5\n",
            "Losses 8.978436805865567  - Iteration  5\n",
            "Losses 14.00233983576727  - Iteration  5\n",
            "Losses 14.494837010450432  - Iteration  5\n",
            "Losses 2.11558551125745  - Iteration  6\n",
            "Losses 2.1329409547252  - Iteration  6\n",
            "Losses 2.7250328920417815  - Iteration  6\n",
            "Losses 3.606051598155318  - Iteration  6\n",
            "Losses 7.752143950845493  - Iteration  6\n",
            "Losses 7.753395598725392  - Iteration  6\n",
            "Losses 1.352894854178885  - Iteration  7\n",
            "Losses 3.2647923574286324  - Iteration  7\n",
            "Losses 4.911183992311635  - Iteration  7\n",
            "Losses 7.114043293285704  - Iteration  7\n",
            "Losses 10.069625749842528  - Iteration  7\n",
            "Losses 10.652526544137322  - Iteration  7\n",
            "Losses 0.7651299232990141  - Iteration  8\n",
            "Losses 2.0647063934610514  - Iteration  8\n",
            "Losses 5.492500392165198  - Iteration  8\n",
            "Losses 7.037349464044951  - Iteration  8\n",
            "Losses 9.700020618682915  - Iteration  8\n",
            "Losses 9.700020799112991  - Iteration  8\n",
            "Losses 2.040507548765163  - Iteration  9\n",
            "Losses 2.068498862293916  - Iteration  9\n",
            "Losses 3.747475009202015  - Iteration  9\n",
            "Losses 4.841272331448261  - Iteration  9\n",
            "Losses 7.952919872628366  - Iteration  9\n",
            "Losses 9.862658313957516  - Iteration  9\n",
            "Losses 0.8577125935462391  - Iteration  10\n",
            "Losses 2.6917591590093934  - Iteration  10\n",
            "Losses 5.022307301525224  - Iteration  10\n",
            "Losses 9.292812207642505  - Iteration  10\n",
            "Losses 9.720826773860331  - Iteration  10\n",
            "Losses 9.720833227405075  - Iteration  10\n",
            "Losses 0.17292234604246914  - Iteration  11\n",
            "Losses 0.34279176245854615  - Iteration  11\n",
            "Losses 1.2636101109465017  - Iteration  11\n",
            "Losses 1.3059402520161285  - Iteration  11\n",
            "Losses 1.5726847152487409  - Iteration  11\n",
            "Losses 1.5817187710169258  - Iteration  11\n",
            "Losses 0.1750490576695256  - Iteration  12\n",
            "Losses 0.20696703030410468  - Iteration  12\n",
            "Losses 1.510851450071959  - Iteration  12\n",
            "Losses 2.6187565355390974  - Iteration  12\n",
            "Losses 4.134049341180944  - Iteration  12\n",
            "Losses 4.2526701946781165  - Iteration  12\n",
            "Losses 1.0001804030049826  - Iteration  13\n",
            "Losses 1.3107225725908975  - Iteration  13\n",
            "Losses 1.966062390269748  - Iteration  13\n",
            "Losses 7.964989591646976  - Iteration  13\n",
            "Losses 7.965400918817604  - Iteration  13\n",
            "Losses 7.9654196562099795  - Iteration  13\n",
            "Losses 0.0008719031343673578  - Iteration  14\n",
            "Losses 0.5981744207262238  - Iteration  14\n",
            "Losses 1.0506689106361193  - Iteration  14\n",
            "Losses 1.126543011574853  - Iteration  14\n",
            "Losses 2.7659247924371115  - Iteration  14\n",
            "Losses 2.766180236370168  - Iteration  14\n",
            "Losses 0.013449983284042233  - Iteration  15\n",
            "Losses 0.06123535145634129  - Iteration  15\n",
            "Losses 0.06281223235410938  - Iteration  15\n",
            "Losses 1.9817979661892524  - Iteration  15\n",
            "Losses 2.113386746155319  - Iteration  15\n",
            "Losses 2.231275784023314  - Iteration  15\n",
            "Losses 0.0003848748361061638  - Iteration  16\n",
            "Losses 0.000569654741019221  - Iteration  16\n",
            "Losses 0.9218104244626542  - Iteration  16\n",
            "Losses 2.4453131159079415  - Iteration  16\n",
            "Losses 3.3284876465598803  - Iteration  16\n",
            "Losses 3.328565829733989  - Iteration  16\n",
            "Losses 0.008030041016543255  - Iteration  17\n",
            "Losses 0.09303627909995521  - Iteration  17\n",
            "Losses 0.9071422920014187  - Iteration  17\n",
            "Losses 2.3028878597871607  - Iteration  17\n",
            "Losses 2.684254814879109  - Iteration  17\n",
            "Losses 2.684254830249242  - Iteration  17\n",
            "Losses 0.0008447312770245019  - Iteration  18\n",
            "Losses 2.305450577213633  - Iteration  18\n",
            "Losses 4.8345091455935405  - Iteration  18\n",
            "Losses 5.507692628582932  - Iteration  18\n",
            "Losses 5.510867939026148  - Iteration  18\n",
            "Losses 5.510871499793722  - Iteration  18\n",
            "Losses 3.235415180791179e-05  - Iteration  19\n",
            "Losses 9.8301968608272e-05  - Iteration  19\n",
            "Losses 1.808153377944395  - Iteration  19\n",
            "Losses 4.09583384492054  - Iteration  19\n",
            "Losses 6.590781902038662  - Iteration  19\n",
            "Losses 6.85802281842209  - Iteration  19\n",
            "Losses 1.9871557899049002  - Iteration  20\n",
            "Losses 1.987597079562331  - Iteration  20\n",
            "Losses 1.9927449517652143  - Iteration  20\n",
            "Losses 2.319708779336249  - Iteration  20\n",
            "Losses 2.597319813407769  - Iteration  20\n",
            "Losses 2.597320748978182  - Iteration  20\n",
            "Losses 0.02553151881016971  - Iteration  21\n",
            "Losses 0.08282687702042393  - Iteration  21\n",
            "Losses 0.08282781292888039  - Iteration  21\n",
            "Losses 0.08412960371769171  - Iteration  21\n",
            "Losses 1.8105003877721602  - Iteration  21\n",
            "Losses 2.325651888419676  - Iteration  21\n",
            "Losses 0.00021097611910736447  - Iteration  22\n",
            "Losses 0.06318241839986216  - Iteration  22\n",
            "Losses 1.8743433491450507  - Iteration  22\n",
            "Losses 1.8743743383137323  - Iteration  22\n",
            "Losses 2.1912403846705724  - Iteration  22\n",
            "Losses 2.191362032830488  - Iteration  22\n",
            "Losses 0.14637716839818649  - Iteration  23\n",
            "Losses 0.542438145579609  - Iteration  23\n",
            "Losses 0.9339618104220615  - Iteration  23\n",
            "Losses 0.9339637972224988  - Iteration  23\n",
            "Losses 2.833834911318866  - Iteration  23\n",
            "Losses 2.843465410083432  - Iteration  23\n",
            "Losses 0.47945187959084024  - Iteration  24\n",
            "Losses 2.515552527463605  - Iteration  24\n",
            "Losses 2.516153308015938  - Iteration  24\n",
            "Losses 2.516166220653613  - Iteration  24\n",
            "Losses 2.517042212855224  - Iteration  24\n",
            "Losses 2.5170422128566696  - Iteration  24\n",
            "Losses 0.0028297476798258003  - Iteration  25\n",
            "Losses 0.0028351545018473825  - Iteration  25\n",
            "Losses 1.798495512584438  - Iteration  25\n",
            "Losses 2.1368495709505124  - Iteration  25\n",
            "Losses 3.553632032381752  - Iteration  25\n",
            "Losses 3.5536346119070847  - Iteration  25\n",
            "Losses 0.24397960710393818  - Iteration  26\n",
            "Losses 0.24417994879525348  - Iteration  26\n",
            "Losses 0.4221206349668081  - Iteration  26\n",
            "Losses 0.42288822220239286  - Iteration  26\n",
            "Losses 0.8557315098641679  - Iteration  26\n",
            "Losses 0.8557335679650147  - Iteration  26\n",
            "Losses 0.37591635779558863  - Iteration  27\n",
            "Losses 0.37602504131439995  - Iteration  27\n",
            "Losses 2.1792124568361784  - Iteration  27\n",
            "Losses 2.2603632684674535  - Iteration  27\n",
            "Losses 2.477185172052179  - Iteration  27\n",
            "Losses 2.4771851970761234  - Iteration  27\n",
            "Losses 2.978089649836868e-05  - Iteration  28\n",
            "Losses 5.7562877172627654e-05  - Iteration  28\n",
            "Losses 0.003424432280423199  - Iteration  28\n",
            "Losses 0.04490815225985698  - Iteration  28\n",
            "Losses 0.32158277500666743  - Iteration  28\n",
            "Losses 0.3215857056476995  - Iteration  28\n",
            "Losses 0.37451518662200467  - Iteration  29\n",
            "Losses 0.37821499676896836  - Iteration  29\n",
            "Losses 0.5846909959500448  - Iteration  29\n",
            "Losses 0.5849605685732542  - Iteration  29\n",
            "Losses 0.6269561830054855  - Iteration  29\n",
            "Losses 0.6269561836379486  - Iteration  29\n"
          ],
          "name": "stdout"
        }
      ]
    },
    {
      "cell_type": "markdown",
      "metadata": {
        "id": "xPkMPIS2YaLh"
      },
      "source": [
        "### Prediction on new samples"
      ]
    },
    {
      "cell_type": "code",
      "metadata": {
        "colab": {
          "base_uri": "https://localhost:8080/"
        },
        "id": "6UIcoZUAYCun",
        "outputId": "6127ec36-e800-44bf-c379-a91db65ed2f7"
      },
      "source": [
        "doc = nlp(\"I was driving my Santro and visited my hometown Sangli, Maharashtra\")\r\n",
        "print(\"Entities\", [(ent.text, ent.label_) for ent in doc.ents])"
      ],
      "execution_count": 8,
      "outputs": [
        {
          "output_type": "stream",
          "text": [
            "Entities [('Santro', 'PRODUCT'), ('Sangli', 'GPE'), ('Maharashtra', 'GPE')]\n"
          ],
          "name": "stdout"
        }
      ]
    },
    {
      "cell_type": "code",
      "metadata": {
        "colab": {
          "base_uri": "https://localhost:8080/"
        },
        "id": "u27fLaZ9eI2M",
        "outputId": "9612bbc0-5905-43aa-e6f1-ad84d50dd69e"
      },
      "source": [
        "doc = nlp(\"Flipkart and Amazon are one of the leading E-comm industries in India\")\r\n",
        "print(\"Entities\", [(ent.text, ent.label_) for ent in doc.ents])"
      ],
      "execution_count": 10,
      "outputs": [
        {
          "output_type": "stream",
          "text": [
            "Entities [('Flipkart', 'ORG'), ('India', 'GPE')]\n"
          ],
          "name": "stdout"
        }
      ]
    },
    {
      "cell_type": "markdown",
      "metadata": {
        "id": "qOEh1OZXeW-o"
      },
      "source": [
        "As we can see, Flipkart is now classified as an ORG but Amazon was not detected by the model. We'll need more training examples to train and test on, or use a more powerful models like BERT for NER. \r\n",
        "\r\n",
        "Go ahead and fork this repo for improvements. Thanks!"
      ]
    },
    {
      "cell_type": "code",
      "metadata": {
        "id": "_6v39EUWe05L"
      },
      "source": [
        ""
      ],
      "execution_count": null,
      "outputs": []
    }
  ]
}